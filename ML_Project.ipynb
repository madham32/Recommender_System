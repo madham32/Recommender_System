{
  "nbformat": 4,
  "nbformat_minor": 0,
  "metadata": {
    "colab": {
      "name": "ML_Project.ipynb",
      "version": "0.3.2",
      "provenance": [],
      "include_colab_link": true
    },
    "kernelspec": {
      "name": "python3",
      "display_name": "Python 3"
    },
    "accelerator": "GPU"
  },
  "cells": [
    {
      "cell_type": "markdown",
      "metadata": {
        "id": "view-in-github",
        "colab_type": "text"
      },
      "source": [
        "<a href=\"https://colab.research.google.com/github/madham32/Recommender_System/blob/master/ML_Project.ipynb\" target=\"_parent\"><img src=\"https://colab.research.google.com/assets/colab-badge.svg\" alt=\"Open In Colab\"/></a>"
      ]
    },
    {
      "metadata": {
        "id": "uEVWYJzABC1M",
        "colab_type": "code",
        "colab": {}
      },
      "cell_type": "code",
      "source": [
        "!pip install tensorflow-gpu"
      ],
      "execution_count": 0,
      "outputs": []
    },
    {
      "metadata": {
        "id": "lUJp358jBZUE",
        "colab_type": "code",
        "outputId": "fd3cd65b-566e-4e75-902a-ee1887bdc0b1",
        "colab": {
          "base_uri": "https://localhost:8080/",
          "height": 34
        }
      },
      "cell_type": "code",
      "source": [
        "from google.colab import drive\n",
        "drive.mount('/content/gdrive')"
      ],
      "execution_count": 0,
      "outputs": [
        {
          "output_type": "stream",
          "text": [
            "Drive already mounted at /content/gdrive; to attempt to forcibly remount, call drive.mount(\"/content/gdrive\", force_remount=True).\n"
          ],
          "name": "stdout"
        }
      ]
    },
    {
      "metadata": {
        "id": "J8YUkRcPFnR8",
        "colab_type": "code",
        "colab": {}
      },
      "cell_type": "code",
      "source": [
        "from google.colab import files\n",
        "files.upload()  #this will prompt you to upload the kaggle.json"
      ],
      "execution_count": 0,
      "outputs": []
    },
    {
      "metadata": {
        "id": "KcHly8IXFwOj",
        "colab_type": "code",
        "outputId": "81482a26-578d-4240-bdaf-a7b0ae2e8f2e",
        "colab": {
          "base_uri": "https://localhost:8080/",
          "height": 34
        }
      },
      "cell_type": "code",
      "source": [
        "!pip install -q kaggle\n",
        "!mkdir -p ~/.kaggle\n",
        "!cp kaggle.json ~/.kaggle/\n",
        "!ls ~/.kaggle\n",
        "!chmod 600 /root/.kaggle/kaggle.json  # set permission"
      ],
      "execution_count": 0,
      "outputs": [
        {
          "output_type": "stream",
          "text": [
            "kaggle.json\n"
          ],
          "name": "stdout"
        }
      ]
    },
    {
      "metadata": {
        "id": "Ru9Xc7MzGKqi",
        "colab_type": "code",
        "colab": {}
      },
      "cell_type": "code",
      "source": [
        "!kaggle datasets download -d netflix-inc/netflix-prize-data -p /content/gdrive/My\\ Drive/kaggle/netflix"
      ],
      "execution_count": 0,
      "outputs": []
    },
    {
      "metadata": {
        "id": "t6h5VarcHmZL",
        "colab_type": "code",
        "colab": {}
      },
      "cell_type": "code",
      "source": [
        "import os\n",
        "os.chdir('gdrive/My Drive/kaggle/netflix')  #change dir\n",
        "\n",
        "# !unzip netflix-prize-data.zip\n"
      ],
      "execution_count": 0,
      "outputs": []
    },
    {
      "metadata": {
        "id": "M_4O6zylInsS",
        "colab_type": "code",
        "outputId": "122d87a4-daec-4a81-e708-3e87fcfb949b",
        "colab": {
          "base_uri": "https://localhost:8080/",
          "height": 34
        }
      },
      "cell_type": "code",
      "source": [
        "import csv\n",
        "import pandas as pd\n",
        "from keras.models import Sequential\n",
        "from keras.layers import Input, Embedding, Flatten, Dot, Dense, Concatenate, Activation, Reshape"
      ],
      "execution_count": 0,
      "outputs": [
        {
          "output_type": "stream",
          "text": [
            "Using TensorFlow backend.\n"
          ],
          "name": "stderr"
        }
      ]
    },
    {
      "metadata": {
        "id": "cJRse8DgI7ph",
        "colab_type": "code",
        "outputId": "e0153db5-33cd-44fe-a5e2-4d182a9a4c2c",
        "colab": {
          "base_uri": "https://localhost:8080/",
          "height": 85
        }
      },
      "cell_type": "code",
      "source": [
        "i=0\n",
        "probe_file1=open('combined_data_1.txt','r') \n",
        "probe_file2=open('combined_data_2.txt','r') \n",
        "probe_file3=open('combined_data_3.txt','r') \n",
        "probe_file4=open('combined_data_4.txt','r') \n",
        "\n",
        "new_file=open('NEW_probe_data.txt','w')\n",
        "\n",
        "def add_data(probefile, newfile, i):\n",
        "    \n",
        "    for line in probefile:\n",
        "        if ':' in line:\n",
        "            i+=1\n",
        "            continue\n",
        "        line=line.strip()+','+str(i)+'\\n'\n",
        "        newfile.write(line) \n",
        "    return i\n",
        "    \n",
        "\n",
        "i=add_data(probe_file1, new_file, i)\n",
        "print(i)\n",
        "i=add_data(probe_file2, new_file, i)\n",
        "print(i)\n",
        "i=add_data(probe_file3, new_file, i)\n",
        "print(i)\n",
        "i=add_data(probe_file4, new_file, i)\n",
        "print(i)"
      ],
      "execution_count": 0,
      "outputs": [
        {
          "output_type": "stream",
          "text": [
            "4499\n",
            "9210\n",
            "13367\n",
            "17770\n"
          ],
          "name": "stdout"
        }
      ]
    },
    {
      "metadata": {
        "id": "y-_UxVaOMf7a",
        "colab_type": "code",
        "colab": {}
      },
      "cell_type": "code",
      "source": [
        "data = pd.read_csv( \"NEW_probe_data.txt\", header=0, \n",
        " delimiter=\",\", quoting=3,names=['user_id','rating','timestamp','movie_id'] )"
      ],
      "execution_count": 0,
      "outputs": []
    },
    {
      "metadata": {
        "id": "VZ5nRJbPMxjx",
        "colab_type": "code",
        "colab": {}
      },
      "cell_type": "code",
      "source": [
        "data"
      ],
      "execution_count": 0,
      "outputs": []
    },
    {
      "metadata": {
        "id": "JyxWLAZdVaF2",
        "colab_type": "code",
        "colab": {}
      },
      "cell_type": "code",
      "source": [
        "from sklearn.model_selection import train_test_split\n",
        "train, test = train_test_split(data, test_size=0.2, random_state=42)"
      ],
      "execution_count": 0,
      "outputs": []
    },
    {
      "metadata": {
        "id": "TSI4sq8rV4xW",
        "colab_type": "code",
        "colab": {}
      },
      "cell_type": "code",
      "source": [
        "n_users = len(data.user_id.unique())\n",
        "\n",
        "n_movies = len(data.movie_id.unique())\n"
      ],
      "execution_count": 0,
      "outputs": []
    },
    {
      "metadata": {
        "id": "midoEIIaWZQo",
        "colab_type": "code",
        "colab": {}
      },
      "cell_type": "code",
      "source": [
        "# creating book embedding path\n",
        "movie_input = Input(shape=[1], name=\"Movie-Input\")\n",
        "movie_embedding = Embedding(n_movies+1, 4, name=\"Movie-Embedding\")(movie_input)\n",
        "movie_vec = Flatten(name=\"Flatten-Movies\")(movie_embedding)\n",
        "\n",
        "# creating user embedding path\n",
        "user_input = Input(shape=[1], name=\"User-Input\")\n",
        "user_embedding = Embedding(n_users+1, 4, name=\"User-Embedding\")(user_input)\n",
        "user_vec = Flatten(name=\"Flatten-Users\")(user_embedding)\n",
        "\n",
        "# performing dot product and creating model\n",
        "prod = Dot(name=\"Dot-Product\", axes=1)([movie_vec, user_vec])\n",
        "model = Model([user_input, movie_input], prod)\n",
        "model.compile('adam', 'mean_squared_error')"
      ],
      "execution_count": 0,
      "outputs": []
    },
    {
      "metadata": {
        "id": "mj2lkARhYV88",
        "colab_type": "code",
        "colab": {}
      },
      "cell_type": "code",
      "source": [
        "from keras.models import Model\n",
        "\n",
        "\n",
        "# creating book embedding path\n",
        "movie_input = Input(shape=[1], name=\"Movie-Input\")\n",
        "movie_embedding = Embedding(n_movies+1, 4, name=\"Movie-Embedding\")(movie_input)\n",
        "movie_vec = Flatten(name=\"Flatten-Movies\")(movie_embedding)\n",
        "\n",
        "# creating user embedding path\n",
        "user_input = Input(shape=[1], name=\"User-Input\")\n",
        "user_embedding = Embedding(n_users+1, 4, name=\"User-Embedding\")(user_input)\n",
        "user_vec = Flatten(name=\"Flatten-Users\")(user_embedding)\n",
        "\n",
        "# concatenate features\n",
        "conc = Concatenate()([movie_vec, user_vec])\n",
        "\n",
        "# add fully-connected-layers\n",
        "fc1 = Dense(128, activation='relu')(conc)\n",
        "fc2 = Dense(32, activation='relu')(fc1)\n",
        "out = Dense(1)(fc2)\n",
        "\n",
        "# Create model and compile it\n",
        "model2 = Model([user_input, movie_input], out)\n",
        "model2.compile('adam', 'mean_squared_error')"
      ],
      "execution_count": 0,
      "outputs": []
    },
    {
      "metadata": {
        "id": "yL1oW0xMW8mu",
        "colab_type": "code",
        "colab": {}
      },
      "cell_type": "code",
      "source": [
        "\n",
        "from keras.models import load_model\n",
        "\n",
        "if os.path.exists('regression_model2.h5'):\n",
        "    model2 = load_model('regression_model2.h5')\n",
        "else:\n",
        "    history = model2.fit([train.user_id, train.movie_id], train.rating, epochs=1, verbose=1)\n",
        "    model2.save('regression_model2.h5')\n"
      ],
      "execution_count": 0,
      "outputs": []
    },
    {
      "metadata": {
        "id": "kxhQYeymhuzY",
        "colab_type": "code",
        "outputId": "a22d3c9e-c152-4fc1-953f-eff2732358fa",
        "colab": {
          "base_uri": "https://localhost:8080/",
          "height": 34
        }
      },
      "cell_type": "code",
      "source": [
        "history.history['loss']"
      ],
      "execution_count": 0,
      "outputs": [
        {
          "output_type": "execute_result",
          "data": {
            "text/plain": [
              "[1.0011890296106545]"
            ]
          },
          "metadata": {
            "tags": []
          },
          "execution_count": 20
        }
      ]
    },
    {
      "metadata": {
        "id": "9B6mG3Vqik3e",
        "colab_type": "code",
        "colab": {}
      },
      "cell_type": "code",
      "source": [
        "import numpy as np\n",
        "\n",
        "\n",
        "# Creating dataset for making recommendations for the first user\n",
        "movie_data = np.array(list(set(data.movie_id)))\n",
        "movie_data[:5]\n",
        "\n",
        "\n",
        "user = np.array([1 for i in range(len(movie_data))])\n",
        "user[:5]"
      ],
      "execution_count": 0,
      "outputs": []
    },
    {
      "metadata": {
        "id": "6IhbwozDjJke",
        "colab_type": "code",
        "outputId": "2161478f-1aa4-42ca-dfc4-d8e5921fa2ba",
        "colab": {
          "base_uri": "https://localhost:8080/",
          "height": 34
        }
      },
      "cell_type": "code",
      "source": [
        "\n",
        "predictions = model2.predict([user, movie_data])\n",
        "\n",
        "predictions = np.array([a[0] for a in predictions])\n",
        "\n",
        "recommended_movie_ids = (-predictions).argsort()[:5]\n",
        "\n",
        "recommended_movie_ids"
      ],
      "execution_count": 0,
      "outputs": [
        {
          "output_type": "execute_result",
          "data": {
            "text/plain": [
              "array([ 8075,  5658,  3455,  7229, 14960])"
            ]
          },
          "metadata": {
            "tags": []
          },
          "execution_count": 26
        }
      ]
    },
    {
      "metadata": {
        "id": "z40lrDc5jfBN",
        "colab_type": "code",
        "outputId": "878dcb62-c45b-422c-f1ac-69c7db0e1883",
        "colab": {
          "base_uri": "https://localhost:8080/",
          "height": 51
        }
      },
      "cell_type": "code",
      "source": [
        "predictions[recommended_movie_ids]"
      ],
      "execution_count": 0,
      "outputs": [
        {
          "output_type": "execute_result",
          "data": {
            "text/plain": [
              "array([15.407293 , 14.199906 ,  4.7365074,  4.735477 ,  4.7207274],\n",
              "      dtype=float32)"
            ]
          },
          "metadata": {
            "tags": []
          },
          "execution_count": 28
        }
      ]
    },
    {
      "metadata": {
        "id": "3T6eNECzj7pm",
        "colab_type": "code",
        "outputId": "054c844d-97ac-4340-d695-ddb0683047d3",
        "colab": {
          "base_uri": "https://localhost:8080/",
          "height": 51
        }
      },
      "cell_type": "code",
      "source": [
        "model2.evaluate([test.user_id, test.movie_id], test.rating)"
      ],
      "execution_count": 0,
      "outputs": [
        {
          "output_type": "stream",
          "text": [
            "20095955/20095955 [==============================] - 801s 40us/step\n"
          ],
          "name": "stdout"
        },
        {
          "output_type": "execute_result",
          "data": {
            "text/plain": [
              "0.9935715879386653"
            ]
          },
          "metadata": {
            "tags": []
          },
          "execution_count": 32
        }
      ]
    }
  ]
}